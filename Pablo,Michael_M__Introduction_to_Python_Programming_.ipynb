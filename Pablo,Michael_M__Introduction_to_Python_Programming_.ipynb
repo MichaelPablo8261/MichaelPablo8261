{
  "nbformat": 4,
  "nbformat_minor": 0,
  "metadata": {
    "colab": {
      "name": "Pablo,Michael M._Introduction to Python Programming .ipynb",
      "provenance": [],
      "authorship_tag": "ABX9TyP4xiAnhdu9FP1pki/tcTl9",
      "include_colab_link": true
    },
    "kernelspec": {
      "name": "python3",
      "display_name": "Python 3"
    },
    "language_info": {
      "name": "python"
    }
  },
  "cells": [
    {
      "cell_type": "markdown",
      "metadata": {
        "id": "view-in-github",
        "colab_type": "text"
      },
      "source": [
        "<a href=\"https://colab.research.google.com/github/MichaelPablo8261/MichaelPablo8261/blob/main/Pablo%2CMichael_M__Introduction_to_Python_Programming_.ipynb\" target=\"_parent\"><img src=\"https://colab.research.google.com/assets/colab-badge.svg\" alt=\"Open In Colab\"/></a>"
      ]
    },
    {
      "cell_type": "markdown",
      "metadata": {
        "id": "tHo5Gmv1iP6U"
      },
      "source": [
        "#Review of Python\n",
        "#Pablo, Michael M.\n",
        "#BSECE 2-2\n",
        "#202013962\n"
      ]
    },
    {
      "cell_type": "code",
      "metadata": {
        "colab": {
          "base_uri": "https://localhost:8080/"
        },
        "id": "ZgVcyBflivsl",
        "outputId": "24a66b92-9e3e-4ea0-bc8d-6a6551e2d80b"
      },
      "source": [
        "print(\"Welcome to Python Programming\")"
      ],
      "execution_count": 3,
      "outputs": [
        {
          "output_type": "stream",
          "name": "stdout",
          "text": [
            "Welcome to Python Programming\n"
          ]
        }
      ]
    },
    {
      "cell_type": "code",
      "metadata": {
        "id": "BUvRMK5ixbE_"
      },
      "source": [
        ""
      ],
      "execution_count": null,
      "outputs": []
    },
    {
      "cell_type": "code",
      "metadata": {
        "colab": {
          "base_uri": "https://localhost:8080/"
        },
        "id": "S01e32rqk1V8",
        "outputId": "02519afe-24b0-4cea-c801-6dcd63dc1c56"
      },
      "source": [
        "b = \"Sally\"\n",
        "print(b)"
      ],
      "execution_count": 4,
      "outputs": [
        {
          "output_type": "stream",
          "name": "stdout",
          "text": [
            "Sally\n"
          ]
        }
      ]
    },
    {
      "cell_type": "code",
      "metadata": {
        "colab": {
          "base_uri": "https://localhost:8080/"
        },
        "id": "0ZpGyoOvlGql",
        "outputId": "609a6f67-bca0-4fac-a985-1d73f78320dd"
      },
      "source": [
        "b = int(4)\n",
        "print(b)"
      ],
      "execution_count": 5,
      "outputs": [
        {
          "output_type": "stream",
          "name": "stdout",
          "text": [
            "4\n"
          ]
        }
      ]
    },
    {
      "cell_type": "code",
      "metadata": {
        "colab": {
          "base_uri": "https://localhost:8080/"
        },
        "id": "KuYhvbMVlRsM",
        "outputId": "c6bab0d9-f62c-487f-d0ec-256a82b42582"
      },
      "source": [
        "b = float(4)\n",
        "print(round((b),3))"
      ],
      "execution_count": 9,
      "outputs": [
        {
          "output_type": "stream",
          "name": "stdout",
          "text": [
            "4.0\n"
          ]
        }
      ]
    },
    {
      "cell_type": "code",
      "metadata": {
        "colab": {
          "base_uri": "https://localhost:8080/"
        },
        "id": "uz3gbRhZlvdM",
        "outputId": "af75a8f4-88fd-4f9a-886b-47ff9710ad5e"
      },
      "source": [
        "x=5\n",
        "y=(\"John\")\n",
        "print(type(x))\n",
        "print(type(y))"
      ],
      "execution_count": 10,
      "outputs": [
        {
          "output_type": "stream",
          "name": "stdout",
          "text": [
            "<class 'int'>\n",
            "<class 'str'>\n"
          ]
        }
      ]
    },
    {
      "cell_type": "code",
      "metadata": {
        "colab": {
          "base_uri": "https://localhost:8080/"
        },
        "id": "R3myTHobmUac",
        "outputId": "342c7149-2ef1-4e07-b8d6-38f373d2043a"
      },
      "source": [
        "a=4\n",
        "A=(\"Sally\")\n",
        "#A will not ovevrwrite a\n",
        "print(a)\n",
        "print(A)"
      ],
      "execution_count": 13,
      "outputs": [
        {
          "output_type": "stream",
          "name": "stdout",
          "text": [
            "4\n",
            "Sally\n"
          ]
        }
      ]
    },
    {
      "cell_type": "code",
      "metadata": {
        "colab": {
          "base_uri": "https://localhost:8080/"
        },
        "id": "5Os4vMmkmt9k",
        "outputId": "a969fa1e-28f7-4362-bf78-4fde3782f964"
      },
      "source": [
        "x,y,z=\"one\",\"two\",\"three\"\n",
        "print (y)\n",
        "print(x)\n",
        "print(z)"
      ],
      "execution_count": 14,
      "outputs": [
        {
          "output_type": "stream",
          "name": "stdout",
          "text": [
            "two\n",
            "one\n",
            "three\n"
          ]
        }
      ]
    },
    {
      "cell_type": "code",
      "metadata": {
        "colab": {
          "base_uri": "https://localhost:8080/"
        },
        "id": "oyRBOHvfnCJE",
        "outputId": "9dcfd1ce-6494-4eaf-b0b0-2db35d3da043"
      },
      "source": [
        "x=y=z=\"Four\"\n",
        "print(y)\n",
        "print(z)\n",
        "print(x)"
      ],
      "execution_count": 17,
      "outputs": [
        {
          "output_type": "stream",
          "name": "stdout",
          "text": [
            "Four\n",
            "Four\n",
            "Four\n"
          ]
        }
      ]
    },
    {
      "cell_type": "code",
      "metadata": {
        "colab": {
          "base_uri": "https://localhost:8080/"
        },
        "id": "fYilqGEindEE",
        "outputId": "56909ed7-d0cf-4433-a8a1-1678d40b51bc"
      },
      "source": [
        "x=(\"enjoying\")\n",
        "\n",
        "print(\"Programming is \" + x)"
      ],
      "execution_count": 22,
      "outputs": [
        {
          "output_type": "stream",
          "name": "stdout",
          "text": [
            "Programming is enjoying\n"
          ]
        }
      ]
    },
    {
      "cell_type": "code",
      "metadata": {
        "colab": {
          "base_uri": "https://localhost:8080/"
        },
        "id": "g_VEd0p-obcF",
        "outputId": "d494d229-4f2f-4d9f-e0f3-4f179d8bdb50"
      },
      "source": [
        "x=\"Python is \"\n",
        "y=\"enjoying\"\n",
        "z= x+y\n",
        "print(z)"
      ],
      "execution_count": 26,
      "outputs": [
        {
          "output_type": "stream",
          "name": "stdout",
          "text": [
            "Python is enjoying\n"
          ]
        }
      ]
    },
    {
      "cell_type": "code",
      "metadata": {
        "colab": {
          "base_uri": "https://localhost:8080/"
        },
        "id": "r2Qugns9ov_M",
        "outputId": "7565565d-942e-4ea8-ccdc-48dcb7d3fd96"
      },
      "source": [
        "x=5\n",
        "y=4\n",
        "z=y-x\n",
        "print(z)"
      ],
      "execution_count": 29,
      "outputs": [
        {
          "output_type": "stream",
          "name": "stdout",
          "text": [
            "-1\n"
          ]
        }
      ]
    },
    {
      "cell_type": "code",
      "metadata": {
        "colab": {
          "base_uri": "https://localhost:8080/"
        },
        "id": "v1AwVo35pJE9",
        "outputId": "93be5c9e-9409-4509-afd5-0e821fd4e72e"
      },
      "source": [
        "x+=1\n",
        "print(x)"
      ],
      "execution_count": 30,
      "outputs": [
        {
          "output_type": "stream",
          "name": "stdout",
          "text": [
            "6\n"
          ]
        }
      ]
    },
    {
      "cell_type": "code",
      "metadata": {
        "colab": {
          "base_uri": "https://localhost:8080/"
        },
        "id": "bm4OxrFgpQT7",
        "outputId": "8c22ca4f-54de-4ec3-c4a7-9eda5582fc13"
      },
      "source": [
        "a,b,c=0,-1,8\n",
        "c%=3\n",
        "b%=5\n",
        "print(int(c))"
      ],
      "execution_count": 39,
      "outputs": [
        {
          "output_type": "stream",
          "name": "stdout",
          "text": [
            "2\n"
          ]
        }
      ]
    },
    {
      "cell_type": "code",
      "metadata": {
        "colab": {
          "base_uri": "https://localhost:8080/"
        },
        "id": "6JdrMDQNqEzo",
        "outputId": "ab427aa5-06bb-436a-e9fc-c873a7fac1c6"
      },
      "source": [
        "x=5\n",
        "x<6 and x<10"
      ],
      "execution_count": 43,
      "outputs": [
        {
          "output_type": "execute_result",
          "data": {
            "text/plain": [
              "True"
            ]
          },
          "metadata": {},
          "execution_count": 43
        }
      ]
    },
    {
      "cell_type": "code",
      "metadata": {
        "colab": {
          "base_uri": "https://localhost:8080/"
        },
        "id": "5uwI-9pvqc-t",
        "outputId": "9b671b46-5a66-4eeb-a00b-cc2c60bee67f"
      },
      "source": [
        "x=5\n",
        "not(x>5 or x>10)"
      ],
      "execution_count": 47,
      "outputs": [
        {
          "output_type": "execute_result",
          "data": {
            "text/plain": [
              "True"
            ]
          },
          "metadata": {},
          "execution_count": 47
        }
      ]
    },
    {
      "cell_type": "code",
      "metadata": {
        "colab": {
          "base_uri": "https://localhost:8080/"
        },
        "id": "SZ-zMOd-rAWV",
        "outputId": "985f784c-67fe-4e92-d2f5-7422bcc782f6"
      },
      "source": [
        "y=6\n",
        "x>5 ^ x<10"
      ],
      "execution_count": 51,
      "outputs": [
        {
          "output_type": "execute_result",
          "data": {
            "text/plain": [
              "True"
            ]
          },
          "metadata": {},
          "execution_count": 51
        }
      ]
    },
    {
      "cell_type": "code",
      "metadata": {
        "colab": {
          "base_uri": "https://localhost:8080/"
        },
        "id": "nx83q7J_rhmV",
        "outputId": "92c090d6-443a-49a6-abff-75aefd34ca25"
      },
      "source": [
        "x is y\n",
        "x is not y"
      ],
      "execution_count": 55,
      "outputs": [
        {
          "output_type": "execute_result",
          "data": {
            "text/plain": [
              "False"
            ]
          },
          "metadata": {},
          "execution_count": 55
        }
      ]
    }
  ]
}